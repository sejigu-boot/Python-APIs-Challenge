{
 "cells": [
  {
   "cell_type": "code",
   "execution_count": null,
   "metadata": {},
   "outputs": [],
   "source": [
    "import csv\n",
    "import kdtree\n",
    "import os\n",
    "\n",
    "\n",
    "class City:\n",
    "   '''\n",
    "   City wraps up the info about a city, including its name, coordinates,\n",
    "   and belonging country.\n",
    "   '''\n",
    "   def __init__(self, city_name, country_code):\n",
    "       self.city_name = city_name\n",
    "       self.country_code = country_code\n",
    "\n",
    "\n",
    "# load the city data up\n",
    "_current_dir, _current_filename = os.path.split(__file__)\n",
    "_world_cities_csv_path = os.path.join(_current_dir, 'worldcities.csv')\n",
    "_world_cities_kdtree = kdtree.create(dimensions=2)\n",
    "WORLD_CITIES_DICT = {}\n",
    "\n",
    "with open(_world_cities_csv_path, 'r') as csv_file:\n",
    "   cities = csv.reader(csv_file)\n",
    "\n",
    "   # discard the headers\n",
    "   cities.__next__()\n",
    "\n",
    "   # populate geo points into kdtree\n",
    "   for city in cities:\n",
    "       city_coordinate_key = (float(city[2]), float(city[3]))\n",
    "       _world_cities_kdtree.add(city_coordinate_key)\n",
    "       c = City(city[1], city[0])\n",
    "       WORLD_CITIES_DICT[city_coordinate_key] = c\n",
    "\n",
    "\n",
    "def nearest_city(latitude, longitude):\n",
    "   nearest_city_coordinate = _world_cities_kdtree.search_nn((latitude, longitude, ))\n",
    "   return WORLD_CITIES_DICT[nearest_city_coordinate[0].data]"
   ]
  }
 ],
 "metadata": {
  "kernelspec": {
   "display_name": "Python 3",
   "language": "python",
   "name": "python3"
  },
  "language_info": {
   "codemirror_mode": {
    "name": "ipython",
    "version": 3
   },
   "file_extension": ".py",
   "mimetype": "text/x-python",
   "name": "python",
   "nbconvert_exporter": "python",
   "pygments_lexer": "ipython3",
   "version": "3.7.3"
  }
 },
 "nbformat": 4,
 "nbformat_minor": 2
}
